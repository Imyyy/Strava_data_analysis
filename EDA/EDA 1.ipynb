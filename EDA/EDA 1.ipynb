{
 "cells": [
  {
   "cell_type": "markdown",
   "id": "5a3b4591-45ef-4490-a17f-dac0e7ad4d26",
   "metadata": {},
   "source": [
    "# EDA\n",
    "\n",
    "AIM:\n",
    "\n",
    "1) Understand the columns\n",
    "\n",
    "2) Key filters to separate down to the camino"
   ]
  },
  {
   "cell_type": "code",
   "execution_count": null,
   "id": "c10fa7df-55b5-4c2f-a342-2913861f065f",
   "metadata": {},
   "outputs": [],
   "source": [
    "import pandas as pd\n",
    "import datetime"
   ]
  },
  {
   "cell_type": "code",
   "execution_count": null,
   "id": "ba6d3dcc-a64e-4ae2-b163-9bf0cc8f6dd6",
   "metadata": {},
   "outputs": [],
   "source": [
    "data_name = \"../Data/Download_csv_11July.csv\"\n",
    "data = pd.read_csv(data_name)"
   ]
  },
  {
   "cell_type": "code",
   "execution_count": null,
   "id": "6faaaf68-3f1e-45b5-9932-6f8dd8c0ea97",
   "metadata": {},
   "outputs": [],
   "source": [
    "data.head()"
   ]
  },
  {
   "cell_type": "code",
   "execution_count": null,
   "id": "4871b908-0164-4797-a880-e843a18586cc",
   "metadata": {},
   "outputs": [],
   "source": [
    "print(data.type.unique())\n",
    "print(data.sport_type.unique())"
   ]
  },
  {
   "cell_type": "code",
   "execution_count": null,
   "id": "4d35fee6-0162-4020-95db-91162e8b1a81",
   "metadata": {},
   "outputs": [],
   "source": [
    "data.type.value_counts()"
   ]
  },
  {
   "cell_type": "markdown",
   "id": "e941fb55-f587-4193-9b82-be4ea816ac69",
   "metadata": {},
   "source": [
    "## Column formatting"
   ]
  },
  {
   "cell_type": "markdown",
   "id": "48fe8fef-18dc-457e-8bc3-f4df29dff166",
   "metadata": {},
   "source": [
    "### Sorting out the date time column\n",
    "Separate year and month into their own columns for easy sorting"
   ]
  },
  {
   "cell_type": "code",
   "execution_count": null,
   "id": "a342baa8-6bbb-4d5f-885f-ffb8722e3d04",
   "metadata": {},
   "outputs": [],
   "source": [
    "data['start_date_local_dt'] = pd.to_datetime(data['start_date_local'])\n",
    "data['date'] = data['start_date_local_dt'].dt.date"
   ]
  },
  {
   "cell_type": "code",
   "execution_count": null,
   "id": "43e7e1dd-a589-464e-822a-516bea806086",
   "metadata": {},
   "outputs": [],
   "source": [
    "print(data.total_elevation_gain.unique())"
   ]
  },
  {
   "cell_type": "code",
   "execution_count": null,
   "id": "050a7daa-170b-4fb6-92f4-c289f1ba588e",
   "metadata": {},
   "outputs": [],
   "source": [
    "data['year'] = pd.DatetimeIndex(data['start_date_local_dt']).year\n",
    "data['month'] = pd.DatetimeIndex(data['start_date_local_dt']).month"
   ]
  },
  {
   "cell_type": "markdown",
   "id": "b5f242a3-4def-40ba-8170-d2cfe8693c42",
   "metadata": {},
   "source": [
    "### Metrics to good formats"
   ]
  },
  {
   "cell_type": "code",
   "execution_count": null,
   "id": "55691dae-200d-44e6-b6f2-cf8cd1ec25d9",
   "metadata": {},
   "outputs": [],
   "source": []
  },
  {
   "cell_type": "code",
   "execution_count": null,
   "id": "1876c79d-6555-48fc-98da-21dd3fe75d56",
   "metadata": {},
   "outputs": [],
   "source": [
    "data['Moving_time_min'] = data['moving_time'] / 60\n",
    "data['Elapsed_time_min'] = data['elapsed_time'] / 60\n",
    "\n",
    "print(data.Moving_time_min.unique())\n",
    "print(data.Elapsed_time_min.unique())"
   ]
  },
  {
   "cell_type": "code",
   "execution_count": null,
   "id": "c6d75c6a-963c-4b82-9f31-274278ab0dd3",
   "metadata": {},
   "outputs": [],
   "source": [
    "data['km'] = data['distance'] / 1000\n",
    "data.km.tail()"
   ]
  },
  {
   "cell_type": "code",
   "execution_count": null,
   "id": "4655b864-7897-4ce0-9e8c-77722895db45",
   "metadata": {},
   "outputs": [],
   "source": [
    "for i in data.columns:\n",
    "    print(i)"
   ]
  },
  {
   "cell_type": "code",
   "execution_count": null,
   "id": "f41c3f8c-2631-4c71-b84b-9c0a10ce98b4",
   "metadata": {},
   "outputs": [],
   "source": []
  },
  {
   "cell_type": "markdown",
   "id": "bfad9ae8-ee02-4dc3-a75b-35c21f29ffab",
   "metadata": {},
   "source": [
    "### Summary stats per type per year"
   ]
  },
  {
   "cell_type": "code",
   "execution_count": null,
   "id": "c98e933d-3071-4434-a8b6-3d1fa7d6e459",
   "metadata": {},
   "outputs": [],
   "source": [
    "year = 2025\n",
    "print(data.shape)\n",
    "twentyfive = data[data['year'] == 2025]\n",
    "print(twentyfive.shape)\n",
    "print(twentyfive.name.unique())"
   ]
  },
  {
   "cell_type": "code",
   "execution_count": null,
   "id": "d9bfd578-2fae-473c-9a37-62581da03b6f",
   "metadata": {},
   "outputs": [],
   "source": [
    "year_options = data.groupby(['type', 'year']).sum(['km']).reset_index()\n",
    "year_options = year_options[['type', 'year', 'km']]\n",
    "year_options.columns = ['Type', 'Year', \"Distance (km)\"]\n",
    "print(year_options)"
   ]
  },
  {
   "cell_type": "code",
   "execution_count": null,
   "id": "a467bdd7-0e21-43b4-af94-2eed80676257",
   "metadata": {},
   "outputs": [],
   "source": [
    "year_options.to_csv(\"Data/Processed_data/Totals_by_year.csv\")"
   ]
  },
  {
   "cell_type": "markdown",
   "id": "aa76d619-8b50-4db6-b543-2572b9a48d98",
   "metadata": {},
   "source": []
  },
  {
   "cell_type": "markdown",
   "id": "fb1398d5-638e-4ff0-8ec6-a6f1f4e9cfd4",
   "metadata": {},
   "source": [
    "## Decoding the summary plotline\n",
    "https://nddoornekamp.medium.com/plotting-strava-data-with-python-7aaf0cf0a9c3"
   ]
  },
  {
   "cell_type": "code",
   "execution_count": null,
   "id": "565b5bf4-3dc6-4eed-bfd6-59fd493e0344",
   "metadata": {},
   "outputs": [],
   "source": []
  },
  {
   "cell_type": "markdown",
   "id": "3bb9383b-b858-45b3-b83a-bbc2bf967ec4",
   "metadata": {},
   "source": [
    "### Camino"
   ]
  },
  {
   "cell_type": "code",
   "execution_count": null,
   "id": "7bacd36c-bdfe-4a92-9dc0-d3b21ac27983",
   "metadata": {},
   "outputs": [],
   "source": [
    "# Lets filter to the camino\n",
    "print(data.shape)\n",
    "foot = data[data[\"type\"].isin([\"Walk\", \"Hike\"])]\n",
    "print(foot.shape)"
   ]
  },
  {
   "cell_type": "code",
   "execution_count": null,
   "id": "80ca7a07-029a-480d-b196-66f06b666c66",
   "metadata": {},
   "outputs": [],
   "source": [
    "foot['start_date_local_dt'] = pd.to_datetime(foot['start_date_local'])\n",
    "foot['date'] = foot['start_date_local_dt'].dt.date"
   ]
  },
  {
   "cell_type": "code",
   "execution_count": null,
   "id": "59328036-6205-47af-af8d-c1aa854c9128",
   "metadata": {},
   "outputs": [],
   "source": [
    "# Filter to dates with just camino\n",
    "foot = data[data[\"type\"].isin([\"Walk\", \"Hike\"])]\n",
    "camino = foot[(foot['date']>datetime.date(2025,5,11)) & (foot['date']<datetime.date(2025,6,24))] \n",
    "print(camino.shape)"
   ]
  },
  {
   "cell_type": "code",
   "execution_count": null,
   "id": "aa389c08-c6b6-4f86-9541-22265351f959",
   "metadata": {},
   "outputs": [],
   "source": [
    "for each in camino.name.unique():\n",
    "    print(each)"
   ]
  },
  {
   "cell_type": "code",
   "execution_count": null,
   "id": "b27c796b-d0b7-4d4b-a06a-ba692e55862a",
   "metadata": {},
   "outputs": [],
   "source": [
    "# Remove Muxi wander\n",
    "print(camino)\n",
    "print(camino.columns)\n",
    "camino = camino[camino['name'] != \"Muxía wander\"]"
   ]
  },
  {
   "cell_type": "code",
   "execution_count": null,
   "id": "8ff84171-64a0-4756-90d6-6b12a2ad655f",
   "metadata": {},
   "outputs": [],
   "source": [
    "# Save camino to processed data\n",
    "camino.to_csv(\"../Data/Processed_data/camino.csv\")"
   ]
  },
  {
   "cell_type": "code",
   "execution_count": null,
   "id": "bdee5cf2-f159-43fc-9d8d-1f5514fd196d",
   "metadata": {},
   "outputs": [],
   "source": []
  }
 ],
 "metadata": {
  "kernelspec": {
   "display_name": "Python 3 (ipykernel)",
   "language": "python",
   "name": "python3"
  },
  "language_info": {
   "codemirror_mode": {
    "name": "ipython",
    "version": 3
   },
   "file_extension": ".py",
   "mimetype": "text/x-python",
   "name": "python",
   "nbconvert_exporter": "python",
   "pygments_lexer": "ipython3",
   "version": "3.13.5"
  }
 },
 "nbformat": 4,
 "nbformat_minor": 5
}
