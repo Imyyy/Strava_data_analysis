{
 "cells": [
  {
   "cell_type": "markdown",
   "id": "5a3b4591-45ef-4490-a17f-dac0e7ad4d26",
   "metadata": {},
   "source": [
    "# EDA\n",
    "\n",
    "AIM:\n",
    "\n",
    "1) Understand the columns\n",
    "\n",
    "2) Key filters to separate down to the camino"
   ]
  },
  {
   "cell_type": "code",
   "execution_count": 34,
   "id": "c10fa7df-55b5-4c2f-a342-2913861f065f",
   "metadata": {},
   "outputs": [],
   "source": [
    "import pandas as pd\n",
    "import datetime"
   ]
  },
  {
   "cell_type": "code",
   "execution_count": 8,
   "id": "ba6d3dcc-a64e-4ae2-b163-9bf0cc8f6dd6",
   "metadata": {},
   "outputs": [],
   "source": [
    "data_name = \"Data/Download_csv_11July.csv\"\n",
    "data = pd.read_csv(data_name)"
   ]
  },
  {
   "cell_type": "code",
   "execution_count": 9,
   "id": "6faaaf68-3f1e-45b5-9932-6f8dd8c0ea97",
   "metadata": {},
   "outputs": [
    {
     "data": {
      "text/html": [
       "<div>\n",
       "<style scoped>\n",
       "    .dataframe tbody tr th:only-of-type {\n",
       "        vertical-align: middle;\n",
       "    }\n",
       "\n",
       "    .dataframe tbody tr th {\n",
       "        vertical-align: top;\n",
       "    }\n",
       "\n",
       "    .dataframe thead th {\n",
       "        text-align: right;\n",
       "    }\n",
       "</style>\n",
       "<table border=\"1\" class=\"dataframe\">\n",
       "  <thead>\n",
       "    <tr style=\"text-align: right;\">\n",
       "      <th></th>\n",
       "      <th>resource_state</th>\n",
       "      <th>name</th>\n",
       "      <th>distance</th>\n",
       "      <th>moving_time</th>\n",
       "      <th>elapsed_time</th>\n",
       "      <th>total_elevation_gain</th>\n",
       "      <th>type</th>\n",
       "      <th>sport_type</th>\n",
       "      <th>id</th>\n",
       "      <th>start_date</th>\n",
       "      <th>...</th>\n",
       "      <th>map.id</th>\n",
       "      <th>map.summary_polyline</th>\n",
       "      <th>map.resource_state</th>\n",
       "      <th>workout_type</th>\n",
       "      <th>average_watts</th>\n",
       "      <th>device_watts</th>\n",
       "      <th>kilojoules</th>\n",
       "      <th>average_temp</th>\n",
       "      <th>max_watts</th>\n",
       "      <th>weighted_average_watts</th>\n",
       "    </tr>\n",
       "  </thead>\n",
       "  <tbody>\n",
       "    <tr>\n",
       "      <th>0</th>\n",
       "      <td>2</td>\n",
       "      <td>Salinas wander</td>\n",
       "      <td>4519.3</td>\n",
       "      <td>3848</td>\n",
       "      <td>4165</td>\n",
       "      <td>12.9</td>\n",
       "      <td>Walk</td>\n",
       "      <td>Walk</td>\n",
       "      <td>15054795828</td>\n",
       "      <td>2025-07-09T07:16:58Z</td>\n",
       "      <td>...</td>\n",
       "      <td>a15054795828</td>\n",
       "      <td>onalFsnnGC?ROTe@H?RWPEXAd@IJK\\APOHOD?VYNKDG?OP...</td>\n",
       "      <td>2</td>\n",
       "      <td>NaN</td>\n",
       "      <td>NaN</td>\n",
       "      <td>NaN</td>\n",
       "      <td>NaN</td>\n",
       "      <td>NaN</td>\n",
       "      <td>NaN</td>\n",
       "      <td>NaN</td>\n",
       "    </tr>\n",
       "    <tr>\n",
       "      <th>1</th>\n",
       "      <td>2</td>\n",
       "      <td>Lunch Swim</td>\n",
       "      <td>1750.0</td>\n",
       "      <td>2904</td>\n",
       "      <td>4333</td>\n",
       "      <td>0.0</td>\n",
       "      <td>Swim</td>\n",
       "      <td>Swim</td>\n",
       "      <td>15033253961</td>\n",
       "      <td>2025-07-07T09:02:42Z</td>\n",
       "      <td>...</td>\n",
       "      <td>a15033253961</td>\n",
       "      <td>NaN</td>\n",
       "      <td>2</td>\n",
       "      <td>NaN</td>\n",
       "      <td>NaN</td>\n",
       "      <td>NaN</td>\n",
       "      <td>NaN</td>\n",
       "      <td>NaN</td>\n",
       "      <td>NaN</td>\n",
       "      <td>NaN</td>\n",
       "    </tr>\n",
       "    <tr>\n",
       "      <th>2</th>\n",
       "      <td>2</td>\n",
       "      <td>Afternoon Swim</td>\n",
       "      <td>1000.0</td>\n",
       "      <td>1605</td>\n",
       "      <td>1750</td>\n",
       "      <td>0.0</td>\n",
       "      <td>Swim</td>\n",
       "      <td>Swim</td>\n",
       "      <td>15024224231</td>\n",
       "      <td>2025-07-06T11:01:33Z</td>\n",
       "      <td>...</td>\n",
       "      <td>a15024224231</td>\n",
       "      <td>NaN</td>\n",
       "      <td>2</td>\n",
       "      <td>NaN</td>\n",
       "      <td>NaN</td>\n",
       "      <td>NaN</td>\n",
       "      <td>NaN</td>\n",
       "      <td>NaN</td>\n",
       "      <td>NaN</td>\n",
       "      <td>NaN</td>\n",
       "    </tr>\n",
       "    <tr>\n",
       "      <th>3</th>\n",
       "      <td>2</td>\n",
       "      <td>Gym warmup</td>\n",
       "      <td>3000.0</td>\n",
       "      <td>1185</td>\n",
       "      <td>1197</td>\n",
       "      <td>0.0</td>\n",
       "      <td>Run</td>\n",
       "      <td>Run</td>\n",
       "      <td>14981859301</td>\n",
       "      <td>2025-07-02T09:35:57Z</td>\n",
       "      <td>...</td>\n",
       "      <td>a14981859301</td>\n",
       "      <td>NaN</td>\n",
       "      <td>2</td>\n",
       "      <td>0.0</td>\n",
       "      <td>NaN</td>\n",
       "      <td>NaN</td>\n",
       "      <td>NaN</td>\n",
       "      <td>NaN</td>\n",
       "      <td>NaN</td>\n",
       "      <td>NaN</td>\n",
       "    </tr>\n",
       "    <tr>\n",
       "      <th>4</th>\n",
       "      <td>2</td>\n",
       "      <td>Coffee walk</td>\n",
       "      <td>4056.2</td>\n",
       "      <td>3168</td>\n",
       "      <td>3987</td>\n",
       "      <td>39.3</td>\n",
       "      <td>Walk</td>\n",
       "      <td>Walk</td>\n",
       "      <td>14915642372</td>\n",
       "      <td>2025-06-24T12:27:42Z</td>\n",
       "      <td>...</td>\n",
       "      <td>a14915642372</td>\n",
       "      <td>czwxHpuAEfBMv@Ct@BXIXCp@Kz@EPK@KJKASIc@[YKc@CI...</td>\n",
       "      <td>2</td>\n",
       "      <td>NaN</td>\n",
       "      <td>NaN</td>\n",
       "      <td>NaN</td>\n",
       "      <td>NaN</td>\n",
       "      <td>NaN</td>\n",
       "      <td>NaN</td>\n",
       "      <td>NaN</td>\n",
       "    </tr>\n",
       "  </tbody>\n",
       "</table>\n",
       "<p>5 rows × 60 columns</p>\n",
       "</div>"
      ],
      "text/plain": [
       "   resource_state            name  distance  moving_time  elapsed_time  \\\n",
       "0               2  Salinas wander    4519.3         3848          4165   \n",
       "1               2      Lunch Swim    1750.0         2904          4333   \n",
       "2               2  Afternoon Swim    1000.0         1605          1750   \n",
       "3               2      Gym warmup    3000.0         1185          1197   \n",
       "4               2     Coffee walk    4056.2         3168          3987   \n",
       "\n",
       "   total_elevation_gain  type sport_type           id            start_date  \\\n",
       "0                  12.9  Walk       Walk  15054795828  2025-07-09T07:16:58Z   \n",
       "1                   0.0  Swim       Swim  15033253961  2025-07-07T09:02:42Z   \n",
       "2                   0.0  Swim       Swim  15024224231  2025-07-06T11:01:33Z   \n",
       "3                   0.0   Run        Run  14981859301  2025-07-02T09:35:57Z   \n",
       "4                  39.3  Walk       Walk  14915642372  2025-06-24T12:27:42Z   \n",
       "\n",
       "   ...        map.id                               map.summary_polyline  \\\n",
       "0  ...  a15054795828  onalFsnnGC?ROTe@H?RWPEXAd@IJK\\APOHOD?VYNKDG?OP...   \n",
       "1  ...  a15033253961                                                NaN   \n",
       "2  ...  a15024224231                                                NaN   \n",
       "3  ...  a14981859301                                                NaN   \n",
       "4  ...  a14915642372  czwxHpuAEfBMv@Ct@BXIXCp@Kz@EPK@KJKASIc@[YKc@CI...   \n",
       "\n",
       "   map.resource_state  workout_type  average_watts  device_watts  kilojoules  \\\n",
       "0                   2           NaN            NaN           NaN         NaN   \n",
       "1                   2           NaN            NaN           NaN         NaN   \n",
       "2                   2           NaN            NaN           NaN         NaN   \n",
       "3                   2           0.0            NaN           NaN         NaN   \n",
       "4                   2           NaN            NaN           NaN         NaN   \n",
       "\n",
       "   average_temp  max_watts  weighted_average_watts  \n",
       "0           NaN        NaN                     NaN  \n",
       "1           NaN        NaN                     NaN  \n",
       "2           NaN        NaN                     NaN  \n",
       "3           NaN        NaN                     NaN  \n",
       "4           NaN        NaN                     NaN  \n",
       "\n",
       "[5 rows x 60 columns]"
      ]
     },
     "execution_count": 9,
     "metadata": {},
     "output_type": "execute_result"
    }
   ],
   "source": [
    "data.head()"
   ]
  },
  {
   "cell_type": "code",
   "execution_count": 11,
   "id": "4871b908-0164-4797-a880-e843a18586cc",
   "metadata": {},
   "outputs": [
    {
     "name": "stdout",
     "output_type": "stream",
     "text": [
      "['Walk' 'Swim' 'Run' 'Hike' 'Ride' 'StairStepper' 'VirtualRide']\n",
      "['Walk' 'Swim' 'Run' 'Hike' 'Ride' 'StairStepper' 'VirtualRide']\n"
     ]
    }
   ],
   "source": [
    "print(data.type.unique())\n",
    "print(data.sport_type.unique())"
   ]
  },
  {
   "cell_type": "code",
   "execution_count": 12,
   "id": "4d35fee6-0162-4020-95db-91162e8b1a81",
   "metadata": {},
   "outputs": [
    {
     "data": {
      "text/plain": [
       "type\n",
       "Ride            638\n",
       "Run             283\n",
       "Walk            124\n",
       "Hike             81\n",
       "VirtualRide      52\n",
       "Swim             26\n",
       "StairStepper      3\n",
       "Name: count, dtype: int64"
      ]
     },
     "execution_count": 12,
     "metadata": {},
     "output_type": "execute_result"
    }
   ],
   "source": [
    "data.type.value_counts()"
   ]
  },
  {
   "cell_type": "code",
   "execution_count": 18,
   "id": "7bacd36c-bdfe-4a92-9dc0-d3b21ac27983",
   "metadata": {},
   "outputs": [
    {
     "name": "stdout",
     "output_type": "stream",
     "text": [
      "(1207, 60)\n",
      "(205, 60)\n",
      "(0, 60)\n"
     ]
    }
   ],
   "source": [
    "# Lets filter to the camino\n",
    "print(data.shape)\n",
    "foot = data[data[\"type\"].isin([\"Walk\", \"Hike\"])]\n",
    "print(foot.shape)"
   ]
  },
  {
   "cell_type": "code",
   "execution_count": 37,
   "id": "80ca7a07-029a-480d-b196-66f06b666c66",
   "metadata": {},
   "outputs": [
    {
     "name": "stderr",
     "output_type": "stream",
     "text": [
      "/var/folders/vl/6b61kczd5ws6jy8bh44qt1rc0000gn/T/ipykernel_19863/609310995.py:1: SettingWithCopyWarning: \n",
      "A value is trying to be set on a copy of a slice from a DataFrame.\n",
      "Try using .loc[row_indexer,col_indexer] = value instead\n",
      "\n",
      "See the caveats in the documentation: https://pandas.pydata.org/pandas-docs/stable/user_guide/indexing.html#returning-a-view-versus-a-copy\n",
      "  foot['start_date_local_dt'] = pd.to_datetime(foot['start_date_local'])\n",
      "/var/folders/vl/6b61kczd5ws6jy8bh44qt1rc0000gn/T/ipykernel_19863/609310995.py:3: SettingWithCopyWarning: \n",
      "A value is trying to be set on a copy of a slice from a DataFrame.\n",
      "Try using .loc[row_indexer,col_indexer] = value instead\n",
      "\n",
      "See the caveats in the documentation: https://pandas.pydata.org/pandas-docs/stable/user_guide/indexing.html#returning-a-view-versus-a-copy\n",
      "  foot['date'] = foot['start_date_local_dt'].dt.date\n"
     ]
    },
    {
     "data": {
      "text/plain": [
       "resource_state                          int64\n",
       "name                                   object\n",
       "distance                              float64\n",
       "moving_time                             int64\n",
       "elapsed_time                            int64\n",
       "                                 ...         \n",
       "average_temp                          float64\n",
       "max_watts                             float64\n",
       "weighted_average_watts                float64\n",
       "start_date_local_dt       datetime64[ns, UTC]\n",
       "date                                   object\n",
       "Length: 62, dtype: object"
      ]
     },
     "execution_count": 37,
     "metadata": {},
     "output_type": "execute_result"
    }
   ],
   "source": [
    "foot['start_date_local_dt'] = pd.to_datetime(foot['start_date_local'])\n",
    "\n",
    "foot['date'] = foot['start_date_local_dt'].dt.date\n",
    "\n",
    "foot.dtypes\n"
   ]
  },
  {
   "cell_type": "code",
   "execution_count": 48,
   "id": "59328036-6205-47af-af8d-c1aa854c9128",
   "metadata": {},
   "outputs": [
    {
     "name": "stdout",
     "output_type": "stream",
     "text": [
      "(39, 62)\n"
     ]
    }
   ],
   "source": [
    "# Filter to dates with just camino\n",
    "camino = foot[(foot['date']>datetime.date(2025,5,11)) & (foot['date']<datetime.date(2025,6,24))] \n",
    "print(camino.shape)"
   ]
  },
  {
   "cell_type": "code",
   "execution_count": 49,
   "id": "aa389c08-c6b6-4f86-9541-22265351f959",
   "metadata": {},
   "outputs": [
    {
     "name": "stdout",
     "output_type": "stream",
     "text": [
      "Bonus Camino 3.2: To the end of the world\n",
      "Bonus Camino 3: O Logoso to Finisterra\n",
      "Bonus Camino 2: Negreira to O Logoso\n",
      "Bonus camino 1: Cathedral to Negreira\n",
      "Muxía wander\n",
      "33: Lavacolla to SANTIAGO\n",
      "32: Heidi’s Place to Lavacolla\n",
      "31: Melide to Tabernavella (Heidi’s place)\n",
      "30: Gonzar to Melide\n",
      "29: Barbadelo to Gonzar\n",
      "28: Samos to Barbadelo\n",
      "27: Hospital de la Contessa to Samos\n",
      "26: Trabadelo to Hospital de la Contessa, hola Galicia\n",
      "25: Ponferrada to Trabadelo\n",
      "24: Foncebadón to Ponferrada\n",
      "22: Astorga to Foncebadón\n",
      "21: Villavente cute casa rural to Astorga\n",
      "21: León to Villavante\n",
      "20: Puente Villarente to Leon\n",
      "19: Calzadilla to Puente Villarente\n",
      "18: Terradillo to Caldazilla de los Hermanillos\n",
      "17: Carrion to Terradillos de los Templarios\n",
      "16: Boadilla to Carrión de los Condes\n",
      "15: Fuente Sidres to Boadilla del Camino\n",
      "14: Burgos to Fuente Sidres\n",
      "13: Cardeñuela to Burgos\n",
      "12: Villafranca to Cardeñuela Riopico\n",
      "11: Castildelgado to Villafranca Montes de Oca\n",
      "10: Azofra to Castildelgado\n",
      "9: Ventosa to Azofra\n",
      "8: Viana to Ventosa\n",
      "7: Villamayor to Viana\n",
      "6: Estella to Villamayor de monjardin\n",
      "5: Puenta de la Reina to Estella\n",
      "4: Pamplona to Puerta de la Reina\n",
      "3: Zubiri to Pamplona\n",
      "2: Roncesvalles to Zubiri\n",
      "1: SJPDP to Roncesvalles\n",
      "Nord to Monparnasse 🚄\n"
     ]
    }
   ],
   "source": [
    "for each in camino.name.unique():\n",
    "    print(each)"
   ]
  },
  {
   "cell_type": "code",
   "execution_count": null,
   "id": "b27c796b-d0b7-4d4b-a06a-ba692e55862a",
   "metadata": {},
   "outputs": [],
   "source": [
    "# Remove Muxi wander\n",
    "camino = camino.drop"
   ]
  }
 ],
 "metadata": {
  "kernelspec": {
   "display_name": "Python 3 (ipykernel)",
   "language": "python",
   "name": "python3"
  },
  "language_info": {
   "codemirror_mode": {
    "name": "ipython",
    "version": 3
   },
   "file_extension": ".py",
   "mimetype": "text/x-python",
   "name": "python",
   "nbconvert_exporter": "python",
   "pygments_lexer": "ipython3",
   "version": "3.13.5"
  }
 },
 "nbformat": 4,
 "nbformat_minor": 5
}
