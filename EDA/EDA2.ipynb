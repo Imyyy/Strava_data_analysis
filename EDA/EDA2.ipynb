{
 "cells": [
  {
   "cell_type": "markdown",
   "id": "a74ff6c7-3b11-49b5-ab2a-90199d851bac",
   "metadata": {},
   "source": [
    "# EDA 2: Map data\n",
    "\n",
    "https://nddoornekamp.medium.com/plotting-strava-data-with-python-7aaf0cf0a9c3\n",
    "\n",
    "https://developers.google.com/maps/documentation/utilities/polylinealgorithm"
   ]
  },
  {
   "cell_type": "code",
   "execution_count": null,
   "id": "ef654aee-6f2c-4dde-afbf-14af5081ddef",
   "metadata": {},
   "outputs": [],
   "source": [
    "import pandas as pd\n",
    "import polyline\n",
    "import matplotlib.pyplot as plt\n",
    "import cartopy.crs as ccrs\n",
    "import datetime\n",
    "import warnings\n",
    "warnings.filterwarnings('ignore')"
   ]
  },
  {
   "cell_type": "code",
   "execution_count": null,
   "id": "fe6a8088-504a-4486-9c35-c5c8eef57085",
   "metadata": {},
   "outputs": [],
   "source": [
    "data_name = \"../Data/Download_csv_11July.csv\"\n",
    "data = pd.read_csv(data_name)\n",
    "data.head()"
   ]
  },
  {
   "cell_type": "code",
   "execution_count": null,
   "id": "cbe6324e-8463-40d8-b649-103a80592e21",
   "metadata": {},
   "outputs": [],
   "source": [
    "ireland = data[data['distance'] == data['distance'].max()]\n",
    "print(ireland.head())"
   ]
  },
  {
   "cell_type": "code",
   "execution_count": null,
   "id": "19df0a11-9558-4f19-94af-80ee58cbf7e5",
   "metadata": {},
   "outputs": [],
   "source": [
    "# Example activity\n",
    "salinas = data.iloc[0]\n",
    "salinas_pl = salinas['map.summary_polyline']\n",
    "print(salinas_pl)\n",
    "\n",
    "ireland = ireland.iloc[0]\n",
    "ireland_pl = ireland['map.summary_polyline']\n",
    "print(ireland_pl)"
   ]
  },
  {
   "cell_type": "code",
   "execution_count": null,
   "id": "de32371e-b5ca-454d-bcd9-ced6a5d08134",
   "metadata": {},
   "outputs": [],
   "source": [
    "# Filter to just the camino\n",
    "# Aim: plot this across a map of Spain\n",
    "\n",
    "foot = data[data[\"type\"].isin([\"Walk\", \"Hike\"])]\n",
    "foot['start_date_local_dt'] = pd.to_datetime(foot['start_date_local'])\n",
    "foot['date'] = foot['start_date_local_dt'].dt.date\n",
    "camino = foot[(foot['date']>datetime.date(2025,5,11)) & (foot['date']<datetime.date(2025,6,24))]\n",
    "camino = camino[camino['name'] != \"Muxía wander\"]\n",
    "print(camino.shape)\n",
    "\n",
    "# TODO: pull out an elevation for each long and lat, plot on a grid along the bottom\n",
    "\n",
    "camino_id_list = camino.id.unique()\n",
    "print(camino_id_list)"
   ]
  },
  {
   "cell_type": "code",
   "execution_count": null,
   "id": "87fcbea3-fd52-4209-a981-6021e543c0e2",
   "metadata": {},
   "outputs": [],
   "source": [
    "# Code from the tutorial\n",
    "import matplotlib.pyplot as plt\n",
    "\n",
    "# summary_polyline = \"ij_}Hyjd^dB_Gp@aAn@[F[{BwQpA?p@v@rCQf@m@_@iTSaAe\\\\cEWVKt@yANs@jCkAfB_JhIdEpP|ApD|BfDl@`DcEvCwEbCcHtKiGnLmKnOcClF{HxLoBrBgG~DmAnBy@pCYxBi@xIHlBu@xH{@tPu@fRLpIS~Eo@lC_HtOuJ|LwOrH{FrH}BdEoChBeBt@{HpBwBpBqA|Ba@K{DeGkKnQc@WkEwGsG~Aj@rBjBjWOhA}AtEc@`Ge\\\\rZyCbH{@|@Ij@r@hA|BxURf@E`@qJzQy_@fz@uGtG{Cy@}GxAyCrCqAfC{AfHmC|SQtEdAxHpBvGv@`EDbFm@pDo@r@sAl@qGc@}ALgJzIkGhNcDzOkBvHsCpD{EvCaGfBqWtC_FpB_F`FeOdV_HtEsJL{JeCqFaC}D}DkH{FyRiD_B}@cC`@{CyAeC`@}RrK_ErAcDnBuFJmBk@sA{@kAoBgD}Iw@_DK}DnAcBUsCTcIIsDkAkGu@eAiCiGyOoSoE{DqImDqE|@aG{AaH}CwDaD_DmFkCgMgB_GeEyFkV_LgE_AaI{BuARoDrBy@z@_BfDSBqCkLoBwFmBsBmDoAgCIkCxB}CtAsI?iFq@{B^cAYsAoBIcDcBkO}A{BuKcd@{Sq`AmAkH_@aFKuN^gFxAyHtPyj@fBcE|E}OzWk}@~CiHXgE`BoIv@wGj]_jE`AgBtAd@j_@j^bRdNn@|Ab@lFp@rAvJ|GxBr@^l@\\\\ANm@M_FJgu@l@mI`AsHfEeU`BsEjFcKxKoM|FwE~CcB`Cl@|DfH|CjGrInS`EzLnEjSrNb~@hHjc@jBnRzFv~@fCjf@jAn\\\\N|Ge@r}@L|Fj@t@tAXxPhBdeAkG`Du@M{DmHog@u@gDDiA`^cSdWmP|[e\\\\fDaE|HaGxB{D|FeO?e@_@u@sZue@YcBxOyl@nFiVtGqVnTir@r@gBd@e@VuCxCkJIgEfGyiAdAwZe@w@kQ{LYy@zDyWvDoRd@_A~zAfq@|q@l_@l@FnBaBfBe@fVvL`AxAt@tB^kEnBKlBf@~AhAr@`Av@zBtEeBfAyElAg@hGnA`B|@jBnBp@`AXbAAzDr@fCC`D`@lG\\\\NXfC`C`Fl@rBtGnc@Et@cA`Bn@`CyApDxBzD~@lCvCvBtEj]xBpKGp@aFnJ?b@~GpXdBdE~BnD|AxHxC~Dr@ItEdAzB_@\"\n",
    "# summary_plotline = salinas_pl\n",
    "\n",
    "coordinates = polyline.decode(ireland_pl)\n",
    "\n",
    "ride_longitudes = [coordinate[1] for coordinate in coordinates]\n",
    "ride_latitudes = [coordinate[0] for coordinate in coordinates]\n",
    "\n",
    "plt.plot(ride_longitudes, ride_latitudes, 'r-', alpha=1)\n",
    "plt.show()"
   ]
  },
  {
   "cell_type": "code",
   "execution_count": null,
   "id": "41f0d779-84ac-44d8-b59d-add7274880ee",
   "metadata": {},
   "outputs": [],
   "source": [
    "# Adding satelite imagery as background - code from tutorial\n",
    "from cartopy import crs as ccrs, feature as cfeature\n",
    "\n",
    "ax = plt.axes(projection=ccrs.PlateCarree())\n",
    "ax.coastlines()\n",
    "ax.add_feature(cfeature.BORDERS, linewidth=0.5, edgecolor='hotpink')\n",
    "# Save the plot by calling plt.savefig() BEFORE plt.show()\n",
    "# plt.savefig('coastlines.pdf')\n",
    "# plt.savefig('coastlines.png')\n",
    "\n",
    "plt.show()"
   ]
  },
  {
   "cell_type": "code",
   "execution_count": null,
   "id": "69ea041a-1bdc-438f-8b8e-242671023e92",
   "metadata": {},
   "outputs": [],
   "source": [
    "# Tutorial to plot specific lat long regions, filtering for USA\n",
    "# https://foundations.projectpythia.org/core/cartopy/cartopy.html\n",
    "\n",
    "projPC = ccrs.PlateCarree()\n",
    "latN = 60\n",
    "latS = 35\n",
    "lonW = -10\n",
    "lonE = 20\n",
    "cLat = (latN + latS) / 2\n",
    "cLon = (lonW + lonE) / 2\n",
    "res = '110m'\n",
    "\n",
    "fig = plt.figure(figsize=(11, 8.5))\n",
    "ax = plt.subplot(1, 1, 1, projection=projPC)\n",
    "ax.set_title('Plate Carree')\n",
    "gl = ax.gridlines(\n",
    "    draw_labels=True, linewidth=2, color='gray', alpha=0.5, linestyle='--'\n",
    ")\n",
    "ax.set_extent([lonW, lonE, latS, latN], crs=projPC)\n",
    "\n",
    "ax.add_feature(cfeature.LAKES)\n",
    "ax.add_feature(cfeature.RIVERS)\n",
    "ax.add_feature(cfeature.LAND, alpha = 0.9)\n",
    "ax.add_feature(cfeature.OCEAN, alpha = 0.6)\n",
    "\n",
    "# ax.coastlines(resolution=res, color='black')\n",
    "# ax.add_feature(cfeature.STATES, linewidth=0.3, edgecolor='blue')\n",
    "ax.add_feature(cfeature.BORDERS, linewidth=0.5, edgecolor='hotpink')\n",
    "\n",
    "plt.plot(ride_longitudes, ride_latitudes, 'r-', alpha=1, color=\"black\")\n",
    "\n",
    "plt.show()"
   ]
  },
  {
   "cell_type": "code",
   "execution_count": null,
   "id": "0bfd03ab-b498-46c3-8756-7a41082a9197",
   "metadata": {},
   "outputs": [],
   "source": [
    "# Turn this into a function to pull out the lat and longs for a cmaino route, and append them on to a list for plotting\n",
    "\n",
    "def return_lat_long(coords):\n",
    "\n",
    "    \"\"\"\n",
    "    Take a polyline code, decode it into a list of latitude and longitude coordinates\n",
    "    \"\"\"\n",
    "\n",
    "    coordinates = polyline.decode(coords)\n",
    "    longitudes = [coordinate[1] for coordinate in coordinates]\n",
    "    latitudes = [coordinate[0] for coordinate in coordinates]\n",
    "\n",
    "    return longitudes, latitudes"
   ]
  },
  {
   "cell_type": "code",
   "execution_count": null,
   "id": "0b3e6555-a965-4ad8-bc58-49bdafd31e42",
   "metadata": {},
   "outputs": [],
   "source": []
  },
  {
   "cell_type": "code",
   "execution_count": null,
   "id": "3638028f-f530-4c19-b806-6b2ae9d8b95c",
   "metadata": {},
   "outputs": [],
   "source": [
    "projPC = ccrs.PlateCarree()\n",
    "latN = 44\n",
    "latS = 41\n",
    "lonW = -10\n",
    "lonE = 0\n",
    "cLat = (latN + latS) / 2\n",
    "cLon = (lonW + lonE) / 2\n",
    "res = '110m'\n",
    "\n",
    "fig = plt.figure(figsize=(11, 5))\n",
    "ax = plt.subplot(1, 1, 1, projection=projPC)\n",
    "ax.set_title('Plate Carree')\n",
    "gl = ax.gridlines(\n",
    "    draw_labels=True, linewidth=0.5, color='white', alpha=0.5, linestyle='--'\n",
    ")\n",
    "ax.set_extent([lonW, lonE, latS, latN], crs=projPC)\n",
    "\n",
    "ax.add_feature(cfeature.LAKES)\n",
    "ax.add_feature(cfeature.RIVERS)\n",
    "ax.add_feature(cfeature.LAND, alpha = 0.9)\n",
    "ax.add_feature(cfeature.OCEAN, alpha = 0.6)\n",
    "\n",
    "ax.add_feature(cfeature.BORDERS, linewidth=0.5, edgecolor='grey')\n",
    "\n",
    "counter = 0\n",
    "for id in camino_id_list:\n",
    "\n",
    "    coords = camino[camino['id'] == id]['map.summary_polyline'].iloc[0]\n",
    "\n",
    "    long, lat = return_lat_long(coords)\n",
    "\n",
    "    if counter % 2 == 0:\n",
    "        col_to_plot = \"deeppink\"\n",
    "    else:\n",
    "        col_to_plot = \"coral\"\n",
    "\n",
    "    plt.plot(long, lat, 'r-', alpha=1, color=col_to_plot)\n",
    "\n",
    "    counter += 1\n",
    "    \n",
    "plt.show()"
   ]
  },
  {
   "cell_type": "code",
   "execution_count": null,
   "id": "31a9a4b0-d89a-4bde-8506-d333d34dd634",
   "metadata": {},
   "outputs": [],
   "source": []
  }
 ],
 "metadata": {
  "kernelspec": {
   "display_name": "Python 3 (ipykernel)",
   "language": "python",
   "name": "python3"
  },
  "language_info": {
   "codemirror_mode": {
    "name": "ipython",
    "version": 3
   },
   "file_extension": ".py",
   "mimetype": "text/x-python",
   "name": "python",
   "nbconvert_exporter": "python",
   "pygments_lexer": "ipython3",
   "version": "3.13.5"
  }
 },
 "nbformat": 4,
 "nbformat_minor": 5
}
