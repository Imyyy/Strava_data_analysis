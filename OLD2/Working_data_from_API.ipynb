{
 "cells": [
  {
   "cell_type": "markdown",
   "metadata": {},
   "source": [
    "Using tutorial from Matt https://github.com/mandieq/strava_related/blob/master/stravalib_sample.ipynb\n",
    "    \n",
    "SCRAP THAT, tutorial of dreams: https://laptrinhx.com/accessing-user-data-via-the-strava-api-using-stravalib-2725696708/"
   ]
  },
  {
   "cell_type": "code",
   "execution_count": 3,
   "metadata": {},
   "outputs": [],
   "source": [
    "import time\n",
    "import pickle\n",
    "import pandas as pd\n",
    "import numpy as np\n",
    "\n",
    "import matplotlib\n",
    "import matplotlib.pyplot as plt\n",
    "import seaborn as sns\n",
    "\n",
    "import folium\n",
    "\n",
    "pd.set_option(\"display.max_columns\", 100)"
   ]
  },
  {
   "cell_type": "code",
   "execution_count": 4,
   "metadata": {},
   "outputs": [],
   "source": [
    "from stravalib.client import Client\n",
    "client = Client()"
   ]
  },
  {
   "cell_type": "code",
   "execution_count": 5,
   "metadata": {},
   "outputs": [],
   "source": [
    "MY_STRAVA_CLIENT_ID = '47585'\n",
    "MY_STRAVA_CLIENT_SECRET = '785ef375378211e49fd5b3311e7386b688bb6da0'"
   ]
  },
  {
   "cell_type": "code",
   "execution_count": 6,
   "metadata": {},
   "outputs": [],
   "source": [
    "url = client.authorization_url(client_id=MY_STRAVA_CLIENT_ID, redirect_uri='http://127.0.0.1:5000/authorization', scope=['read_all','profile:read_all','activity:read_all'])"
   ]
  },
  {
   "cell_type": "code",
   "execution_count": 7,
   "metadata": {},
   "outputs": [
    {
     "name": "stdout",
     "output_type": "stream",
     "text": [
      "https://www.strava.com/oauth/authorize?client_id=47585&redirect_uri=http%3A%2F%2F127.0.0.1%3A5000%2Fauthorization&approval_prompt=auto&response_type=code&scope=read_all%2Cprofile%3Aread_all%2Cactivity%3Aread_all\n"
     ]
    }
   ],
   "source": [
    "print(url)"
   ]
  },
  {
   "cell_type": "code",
   "execution_count": 10,
   "metadata": {},
   "outputs": [],
   "source": [
    "CODE = \"c607fe7251af043f2f0d392075a9fc78a025fbd1\" # not sure i copied this right"
   ]
  },
  {
   "cell_type": "code",
   "execution_count": 12,
   "metadata": {},
   "outputs": [
    {
     "ename": "Fault",
     "evalue": "400 Client Error: Bad Request [Bad Request: [{'resource': 'AuthorizationCode', 'field': '', 'code': 'expired'}]]",
     "output_type": "error",
     "traceback": [
      "\u001b[0;31m---------------------------------------------------------------------------\u001b[0m",
      "\u001b[0;31mFault\u001b[0m                                     Traceback (most recent call last)",
      "\u001b[0;32m<ipython-input-12-f86fe43cfedb>\u001b[0m in \u001b[0;36m<module>\u001b[0;34m\u001b[0m\n\u001b[0;32m----> 1\u001b[0;31m \u001b[0maccess_token\u001b[0m \u001b[0;34m=\u001b[0m \u001b[0mclient\u001b[0m\u001b[0;34m.\u001b[0m\u001b[0mexchange_code_for_token\u001b[0m\u001b[0;34m(\u001b[0m\u001b[0mclient_id\u001b[0m\u001b[0;34m=\u001b[0m\u001b[0mMY_STRAVA_CLIENT_ID\u001b[0m\u001b[0;34m,\u001b[0m \u001b[0mclient_secret\u001b[0m\u001b[0;34m=\u001b[0m\u001b[0mMY_STRAVA_CLIENT_SECRET\u001b[0m\u001b[0;34m,\u001b[0m \u001b[0mcode\u001b[0m\u001b[0;34m=\u001b[0m\u001b[0mCODE\u001b[0m\u001b[0;34m)\u001b[0m\u001b[0;34m\u001b[0m\u001b[0;34m\u001b[0m\u001b[0m\n\u001b[0m",
      "\u001b[0;32m~/opt/anaconda3/lib/python3.7/site-packages/stravalib/client.py\u001b[0m in \u001b[0;36mexchange_code_for_token\u001b[0;34m(self, client_id, client_secret, code)\u001b[0m\n\u001b[1;32m    131\u001b[0m         return self.protocol.exchange_code_for_token(client_id=client_id,\n\u001b[1;32m    132\u001b[0m                                                      \u001b[0mclient_secret\u001b[0m\u001b[0;34m=\u001b[0m\u001b[0mclient_secret\u001b[0m\u001b[0;34m,\u001b[0m\u001b[0;34m\u001b[0m\u001b[0;34m\u001b[0m\u001b[0m\n\u001b[0;32m--> 133\u001b[0;31m                                                      code=code)\n\u001b[0m\u001b[1;32m    134\u001b[0m \u001b[0;34m\u001b[0m\u001b[0m\n\u001b[1;32m    135\u001b[0m     \u001b[0;32mdef\u001b[0m \u001b[0mrefresh_access_token\u001b[0m\u001b[0;34m(\u001b[0m\u001b[0mself\u001b[0m\u001b[0;34m,\u001b[0m \u001b[0mclient_id\u001b[0m\u001b[0;34m,\u001b[0m \u001b[0mclient_secret\u001b[0m\u001b[0;34m,\u001b[0m \u001b[0mrefresh_token\u001b[0m\u001b[0;34m)\u001b[0m\u001b[0;34m:\u001b[0m\u001b[0;34m\u001b[0m\u001b[0;34m\u001b[0m\u001b[0m\n",
      "\u001b[0;32m~/opt/anaconda3/lib/python3.7/site-packages/stravalib/protocol.py\u001b[0m in \u001b[0;36mexchange_code_for_token\u001b[0;34m(self, client_id, client_secret, code)\u001b[0m\n\u001b[1;32m    126\u001b[0m                                  params={'client_id': client_id, 'client_secret': client_secret, 'code': code,\n\u001b[1;32m    127\u001b[0m                                  'grant_type': 'authorization_code'},\n\u001b[0;32m--> 128\u001b[0;31m                                  method='POST')\n\u001b[0m\u001b[1;32m    129\u001b[0m         \u001b[0maccess_info\u001b[0m \u001b[0;34m=\u001b[0m \u001b[0mdict\u001b[0m\u001b[0;34m(\u001b[0m\u001b[0;34m)\u001b[0m\u001b[0;34m\u001b[0m\u001b[0;34m\u001b[0m\u001b[0m\n\u001b[1;32m    130\u001b[0m         \u001b[0maccess_info\u001b[0m\u001b[0;34m[\u001b[0m\u001b[0;34m'access_token'\u001b[0m\u001b[0;34m]\u001b[0m \u001b[0;34m=\u001b[0m \u001b[0mresponse\u001b[0m\u001b[0;34m[\u001b[0m\u001b[0;34m'access_token'\u001b[0m\u001b[0;34m]\u001b[0m\u001b[0;34m\u001b[0m\u001b[0;34m\u001b[0m\u001b[0m\n",
      "\u001b[0;32m~/opt/anaconda3/lib/python3.7/site-packages/stravalib/protocol.py\u001b[0m in \u001b[0;36m_request\u001b[0;34m(self, url, params, files, method, check_for_errors, use_webhook_server)\u001b[0m\n\u001b[1;32m    219\u001b[0m \u001b[0;34m\u001b[0m\u001b[0m\n\u001b[1;32m    220\u001b[0m         \u001b[0;32mif\u001b[0m \u001b[0mcheck_for_errors\u001b[0m\u001b[0;34m:\u001b[0m\u001b[0;34m\u001b[0m\u001b[0;34m\u001b[0m\u001b[0m\n\u001b[0;32m--> 221\u001b[0;31m             \u001b[0mself\u001b[0m\u001b[0;34m.\u001b[0m\u001b[0m_handle_protocol_error\u001b[0m\u001b[0;34m(\u001b[0m\u001b[0mraw\u001b[0m\u001b[0;34m)\u001b[0m\u001b[0;34m\u001b[0m\u001b[0;34m\u001b[0m\u001b[0m\n\u001b[0m\u001b[1;32m    222\u001b[0m \u001b[0;34m\u001b[0m\u001b[0m\n\u001b[1;32m    223\u001b[0m         \u001b[0;31m# 204 = No content\u001b[0m\u001b[0;34m\u001b[0m\u001b[0;34m\u001b[0m\u001b[0;34m\u001b[0m\u001b[0m\n",
      "\u001b[0;32m~/opt/anaconda3/lib/python3.7/site-packages/stravalib/protocol.py\u001b[0m in \u001b[0;36m_handle_protocol_error\u001b[0;34m(self, response)\u001b[0m\n\u001b[1;32m    266\u001b[0m \u001b[0;34m\u001b[0m\u001b[0m\n\u001b[1;32m    267\u001b[0m         \u001b[0;32mif\u001b[0m \u001b[0mexc_class\u001b[0m \u001b[0;32mis\u001b[0m \u001b[0;32mnot\u001b[0m \u001b[0;32mNone\u001b[0m\u001b[0;34m:\u001b[0m\u001b[0;34m\u001b[0m\u001b[0;34m\u001b[0m\u001b[0m\n\u001b[0;32m--> 268\u001b[0;31m             \u001b[0;32mraise\u001b[0m \u001b[0mexc_class\u001b[0m\u001b[0;34m(\u001b[0m\u001b[0mmsg\u001b[0m\u001b[0;34m,\u001b[0m \u001b[0mresponse\u001b[0m\u001b[0;34m=\u001b[0m\u001b[0mresponse\u001b[0m\u001b[0;34m)\u001b[0m\u001b[0;34m\u001b[0m\u001b[0;34m\u001b[0m\u001b[0m\n\u001b[0m\u001b[1;32m    269\u001b[0m \u001b[0;34m\u001b[0m\u001b[0m\n\u001b[1;32m    270\u001b[0m         \u001b[0;32mreturn\u001b[0m \u001b[0mresponse\u001b[0m\u001b[0;34m\u001b[0m\u001b[0;34m\u001b[0m\u001b[0m\n",
      "\u001b[0;31mFault\u001b[0m: 400 Client Error: Bad Request [Bad Request: [{'resource': 'AuthorizationCode', 'field': '', 'code': 'expired'}]]"
     ]
    }
   ],
   "source": [
    "access_token = client.exchange_code_for_token(client_id=MY_STRAVA_CLIENT_ID, client_secret=MY_STRAVA_CLIENT_SECRET, code=CODE)"
   ]
  },
  {
   "cell_type": "code",
   "execution_count": 16,
   "metadata": {},
   "outputs": [],
   "source": [
    "with open('../access_token.pickle', 'wb') as f:\n",
    "    pickle.dump(ccess_token, f)"
   ]
  },
  {
   "cell_type": "code",
   "execution_count": 17,
   "metadata": {},
   "outputs": [
    {
     "name": "stdout",
     "output_type": "stream",
     "text": [
      "Latest access token read from file:\n"
     ]
    },
    {
     "data": {
      "text/plain": [
       "{'access_token': 'd965ea3178c3e97cd0b027c9a4cd093ba6d7f95d',\n",
       " 'refresh_token': '26a8d8090393968e3e385b2deb8082fb7a9da1ed',\n",
       " 'expires_at': 1613089647}"
      ]
     },
     "execution_count": 17,
     "metadata": {},
     "output_type": "execute_result"
    }
   ],
   "source": [
    "with open('../access_token.pickle', 'rb') as f:\n",
    "    access_token = pickle.load(f)\n",
    "    \n",
    "print('Latest access token read from file:')\n",
    "access_token"
   ]
  },
  {
   "cell_type": "code",
   "execution_count": 20,
   "metadata": {},
   "outputs": [
    {
     "name": "stdout",
     "output_type": "stream",
     "text": [
      "Token still valid, expires at Fri, 12 Feb 2021 00:27:27 GMT\n"
     ]
    }
   ],
   "source": [
    "if time.time() > access_token['expires_at']:\n",
    "    print('Token has expired, will refresh')\n",
    "    refresh_response = client.refresh_access_token(client_id=MY_STRAVA_CLIENT_ID, client_secret=MY_STRAVA_CLIENT_SECRET, refresh_token=access_token['refresh_token'])\n",
    "    access_token = refresh_response\n",
    "    client.access_token = refresh_response['access_token']\n",
    "    client.refresh_token = refresh_response['refresh_token']\n",
    "    client.token_expires_at = refresh_response['expires_at']\n",
    "        \n",
    "else:\n",
    "    print('Token still valid, expires at {}'\n",
    "          .format(time.strftime(\"%a, %d %b %Y %H:%M:%S %Z\", time.localtime(access_token['expires_at']))))\n",
    "    client.access_token = access_token['access_token']\n",
    "    client.refresh_token = access_token['refresh_token']\n",
    "    client.token_expires_at = access_token['expires_at']"
   ]
  },
  {
   "cell_type": "code",
   "execution_count": 21,
   "metadata": {},
   "outputs": [
    {
     "name": "stdout",
     "output_type": "stream",
     "text": [
      "Athlete's name is Imy Younge, based in None, None\n"
     ]
    }
   ],
   "source": [
    "athlete = client.get_athlete()\n",
    "print(\"Athlete's name is {} {}, based in {}, {}\"\n",
    "      .format(athlete.firstname, athlete.lastname, athlete.city, athlete.country))"
   ]
  },
  {
   "cell_type": "code",
   "execution_count": 22,
   "metadata": {},
   "outputs": [
    {
     "data": {
      "text/plain": [
       "[<Activity id=4749731144 name='Snow walk 2' resource_state=2>,\n",
       " <Activity id=4743557858 name='Sun at the beginning' resource_state=2>,\n",
       " <Activity id=4734449890 name='Some days just need 20 mins of Beyonce soundtracked Hiit' resource_state=2>,\n",
       " <Activity id=4720422603 name='Not friends with jogging today' resource_state=2>,\n",
       " <Activity id=4710723765 name='Return to the dino’s 🦕' resource_state=2>,\n",
       " <Activity id=4694433078 name='Break from my desk' resource_state=2>,\n",
       " <Activity id=4689168180 name='Wednesday Crystal Palace' resource_state=2>,\n",
       " <Activity id=4678652275 name='Monday lunch cycle' resource_state=2>,\n",
       " <Activity id=4673080404 name='Snow walk' resource_state=2>,\n",
       " <Activity id=4668133623 name='Cutty Sark' resource_state=2>]"
      ]
     },
     "execution_count": 22,
     "metadata": {},
     "output_type": "execute_result"
    }
   ],
   "source": [
    "activities = client.get_activities(limit=1000)\n",
    "list(activities)[0:10]"
   ]
  },
  {
   "cell_type": "code",
   "execution_count": 23,
   "metadata": {},
   "outputs": [],
   "source": [
    "my_cols =['name',\n",
    "          'start_date_local',\n",
    "          'type',\n",
    "          'distance',\n",
    "          'moving_time',\n",
    "          'elapsed_time',\n",
    "          'total_elevation_gain',\n",
    "          'elev_high',\n",
    "          'elev_low',\n",
    "          'average_speed',\n",
    "          'max_speed',\n",
    "          'average_heartrate',\n",
    "          'max_heartrate',\n",
    "          'start_latitude',\n",
    "          'start_longitude']"
   ]
  },
  {
   "cell_type": "code",
   "execution_count": 24,
   "metadata": {},
   "outputs": [],
   "source": [
    "data = []\n",
    "for activity in activities:\n",
    "    my_dict = activity.to_dict()\n",
    "    data.append([activity.id]+[my_dict.get(x) for x in my_cols])\n",
    "    \n",
    "# Add id to the beginning of the columns, used when selecting a specific activity\n",
    "my_cols.insert(0,'id')"
   ]
  },
  {
   "cell_type": "code",
   "execution_count": 25,
   "metadata": {},
   "outputs": [],
   "source": [
    "df = pd.DataFrame(data, columns=my_cols)"
   ]
  },
  {
   "cell_type": "code",
   "execution_count": 26,
   "metadata": {},
   "outputs": [],
   "source": [
    "# He then makes all walks in to hikes, I'm skipping that\n",
    "\n",
    "df['distance_km'] = df['distance']/1e3 # Create a distance in km column"
   ]
  },
  {
   "cell_type": "code",
   "execution_count": 29,
   "metadata": {},
   "outputs": [],
   "source": [
    "# Convert dates to datetime type\n",
    "df['start_date_local'] = pd.to_datetime(df['start_date_local'])\n",
    "# Create a day of the week and month of the year columns\n",
    "df['day_of_week'] = df['start_date_local'].dt.day_name()\n",
    "df['month_of_year'] = df['start_date_local'].dt.month\n",
    "# Convert times to timedeltas\n",
    "df['moving_time'] = pd.to_timedelta(df['moving_time'])\n",
    "df['elapsed_time'] = pd.to_timedelta(df['elapsed_time'])\n",
    "# Convert timings to hours for plotting\n",
    "df['elapsed_time_hr'] = df['elapsed_time'].astype(int)/3600e9\n",
    "df['moving_time_hr'] = df['moving_time'].astype(int)/3600e9"
   ]
  },
  {
   "cell_type": "code",
   "execution_count": 34,
   "metadata": {},
   "outputs": [
    {
     "data": {
      "text/html": [
       "<div>\n",
       "<style scoped>\n",
       "    .dataframe tbody tr th:only-of-type {\n",
       "        vertical-align: middle;\n",
       "    }\n",
       "\n",
       "    .dataframe tbody tr th {\n",
       "        vertical-align: top;\n",
       "    }\n",
       "\n",
       "    .dataframe thead th {\n",
       "        text-align: right;\n",
       "    }\n",
       "</style>\n",
       "<table border=\"1\" class=\"dataframe\">\n",
       "  <thead>\n",
       "    <tr style=\"text-align: right;\">\n",
       "      <th></th>\n",
       "      <th>id</th>\n",
       "      <th>name</th>\n",
       "      <th>start_date_local</th>\n",
       "      <th>type</th>\n",
       "      <th>distance</th>\n",
       "      <th>moving_time</th>\n",
       "      <th>elapsed_time</th>\n",
       "      <th>total_elevation_gain</th>\n",
       "      <th>elev_high</th>\n",
       "      <th>elev_low</th>\n",
       "      <th>average_speed</th>\n",
       "      <th>max_speed</th>\n",
       "      <th>average_heartrate</th>\n",
       "      <th>max_heartrate</th>\n",
       "      <th>start_latitude</th>\n",
       "      <th>start_longitude</th>\n",
       "      <th>distance_km</th>\n",
       "      <th>day_of_week</th>\n",
       "      <th>month_of_year</th>\n",
       "      <th>elapsed_time_hr</th>\n",
       "      <th>moving_time_hr</th>\n",
       "    </tr>\n",
       "  </thead>\n",
       "  <tbody>\n",
       "    <tr>\n",
       "      <th>0</th>\n",
       "      <td>4749731144</td>\n",
       "      <td>Snow walk 2</td>\n",
       "      <td>2021-02-07 10:49:37</td>\n",
       "      <td>Walk</td>\n",
       "      <td>6466.8</td>\n",
       "      <td>01:25:19</td>\n",
       "      <td>01:52:53</td>\n",
       "      <td>39.1</td>\n",
       "      <td>50.6</td>\n",
       "      <td>35.4</td>\n",
       "      <td>1.263</td>\n",
       "      <td>2.6</td>\n",
       "      <td>107.4</td>\n",
       "      <td>127.0</td>\n",
       "      <td>51.407639</td>\n",
       "      <td>-0.012136</td>\n",
       "      <td>6.4668</td>\n",
       "      <td>Sunday</td>\n",
       "      <td>2</td>\n",
       "      <td>1.881389</td>\n",
       "      <td>1.421944</td>\n",
       "    </tr>\n",
       "    <tr>\n",
       "      <th>1</th>\n",
       "      <td>4743557858</td>\n",
       "      <td>Sun at the beginning</td>\n",
       "      <td>2021-02-06 11:28:51</td>\n",
       "      <td>Ride</td>\n",
       "      <td>16471.3</td>\n",
       "      <td>00:51:55</td>\n",
       "      <td>00:58:42</td>\n",
       "      <td>162.9</td>\n",
       "      <td>111.5</td>\n",
       "      <td>26.1</td>\n",
       "      <td>5.288</td>\n",
       "      <td>10.3</td>\n",
       "      <td>153.7</td>\n",
       "      <td>188.0</td>\n",
       "      <td>51.407523</td>\n",
       "      <td>-0.011840</td>\n",
       "      <td>16.4713</td>\n",
       "      <td>Saturday</td>\n",
       "      <td>2</td>\n",
       "      <td>0.978333</td>\n",
       "      <td>0.865278</td>\n",
       "    </tr>\n",
       "    <tr>\n",
       "      <th>2</th>\n",
       "      <td>4734449890</td>\n",
       "      <td>Some days just need 20 mins of Beyonce soundtr...</td>\n",
       "      <td>2021-02-04 17:50:18</td>\n",
       "      <td>Run</td>\n",
       "      <td>2982.9</td>\n",
       "      <td>00:20:21</td>\n",
       "      <td>00:20:28</td>\n",
       "      <td>15.2</td>\n",
       "      <td>50.6</td>\n",
       "      <td>40.1</td>\n",
       "      <td>2.443</td>\n",
       "      <td>4.0</td>\n",
       "      <td>173.7</td>\n",
       "      <td>194.0</td>\n",
       "      <td>51.407655</td>\n",
       "      <td>-0.012007</td>\n",
       "      <td>2.9829</td>\n",
       "      <td>Thursday</td>\n",
       "      <td>2</td>\n",
       "      <td>0.341111</td>\n",
       "      <td>0.339167</td>\n",
       "    </tr>\n",
       "    <tr>\n",
       "      <th>3</th>\n",
       "      <td>4720422603</td>\n",
       "      <td>Not friends with jogging today</td>\n",
       "      <td>2021-02-02 07:28:06</td>\n",
       "      <td>Run</td>\n",
       "      <td>4200.9</td>\n",
       "      <td>00:30:22</td>\n",
       "      <td>00:31:07</td>\n",
       "      <td>29.3</td>\n",
       "      <td>64.7</td>\n",
       "      <td>32.3</td>\n",
       "      <td>2.306</td>\n",
       "      <td>6.1</td>\n",
       "      <td>165.4</td>\n",
       "      <td>194.0</td>\n",
       "      <td>51.407555</td>\n",
       "      <td>-0.011922</td>\n",
       "      <td>4.2009</td>\n",
       "      <td>Tuesday</td>\n",
       "      <td>2</td>\n",
       "      <td>0.518611</td>\n",
       "      <td>0.506111</td>\n",
       "    </tr>\n",
       "    <tr>\n",
       "      <th>4</th>\n",
       "      <td>4710723765</td>\n",
       "      <td>Return to the dino’s 🦕</td>\n",
       "      <td>2021-01-31 11:07:46</td>\n",
       "      <td>Walk</td>\n",
       "      <td>4442.5</td>\n",
       "      <td>01:05:24</td>\n",
       "      <td>01:18:57</td>\n",
       "      <td>56.8</td>\n",
       "      <td>112.1</td>\n",
       "      <td>56.8</td>\n",
       "      <td>1.132</td>\n",
       "      <td>2.1</td>\n",
       "      <td>100.3</td>\n",
       "      <td>117.0</td>\n",
       "      <td>51.421272</td>\n",
       "      <td>-0.072641</td>\n",
       "      <td>4.4425</td>\n",
       "      <td>Sunday</td>\n",
       "      <td>1</td>\n",
       "      <td>1.315833</td>\n",
       "      <td>1.090000</td>\n",
       "    </tr>\n",
       "  </tbody>\n",
       "</table>\n",
       "</div>"
      ],
      "text/plain": [
       "           id                                               name  \\\n",
       "0  4749731144                                        Snow walk 2   \n",
       "1  4743557858                               Sun at the beginning   \n",
       "2  4734449890  Some days just need 20 mins of Beyonce soundtr...   \n",
       "3  4720422603                     Not friends with jogging today   \n",
       "4  4710723765                             Return to the dino’s 🦕   \n",
       "\n",
       "     start_date_local  type  distance moving_time elapsed_time  \\\n",
       "0 2021-02-07 10:49:37  Walk    6466.8    01:25:19     01:52:53   \n",
       "1 2021-02-06 11:28:51  Ride   16471.3    00:51:55     00:58:42   \n",
       "2 2021-02-04 17:50:18   Run    2982.9    00:20:21     00:20:28   \n",
       "3 2021-02-02 07:28:06   Run    4200.9    00:30:22     00:31:07   \n",
       "4 2021-01-31 11:07:46  Walk    4442.5    01:05:24     01:18:57   \n",
       "\n",
       "   total_elevation_gain  elev_high  elev_low  average_speed  max_speed  \\\n",
       "0                  39.1       50.6      35.4          1.263        2.6   \n",
       "1                 162.9      111.5      26.1          5.288       10.3   \n",
       "2                  15.2       50.6      40.1          2.443        4.0   \n",
       "3                  29.3       64.7      32.3          2.306        6.1   \n",
       "4                  56.8      112.1      56.8          1.132        2.1   \n",
       "\n",
       "   average_heartrate  max_heartrate  start_latitude  start_longitude  \\\n",
       "0              107.4          127.0       51.407639        -0.012136   \n",
       "1              153.7          188.0       51.407523        -0.011840   \n",
       "2              173.7          194.0       51.407655        -0.012007   \n",
       "3              165.4          194.0       51.407555        -0.011922   \n",
       "4              100.3          117.0       51.421272        -0.072641   \n",
       "\n",
       "   distance_km day_of_week  month_of_year  elapsed_time_hr  moving_time_hr  \n",
       "0       6.4668      Sunday              2         1.881389        1.421944  \n",
       "1      16.4713    Saturday              2         0.978333        0.865278  \n",
       "2       2.9829    Thursday              2         0.341111        0.339167  \n",
       "3       4.2009     Tuesday              2         0.518611        0.506111  \n",
       "4       4.4425      Sunday              1         1.315833        1.090000  "
      ]
     },
     "execution_count": 34,
     "metadata": {},
     "output_type": "execute_result"
    }
   ],
   "source": [
    "df.head()"
   ]
  },
  {
   "cell_type": "code",
   "execution_count": 32,
   "metadata": {},
   "outputs": [
    {
     "data": {
      "image/png": "[encoded data removed]",
      "text/plain": [
       "<Figure size 1036.8x288 with 4 Axes>"
      ]
     },
     "metadata": {
      "needs_background": "light"
     },
     "output_type": "display_data"
    }
   ],
   "source": [
    "day_of_week_order = ['Monday', 'Tuesday', 'Wednesday', 'Thursday', 'Friday', 'Saturday', 'Sunday' ]\n",
    "\n",
    "g = sns.catplot(x='day_of_week', y='distance_km', kind='strip', data=df, order=day_of_week_order, col='type', height=4, aspect=0.9, palette='pastel')\n",
    "\n",
    "(g.set_axis_labels(\"Week day\", \"Distance (km)\")\n",
    "  .set_titles(\"Activity type: {col_name}\")\n",
    "  .set_xticklabels(rotation=30));"
   ]
  },
  {
   "cell_type": "code",
   "execution_count": 37,
   "metadata": {},
   "outputs": [],
   "source": [
    "# Save to csv so that I can import in to R and analyse there\n",
    "PATH = '/Users/imytest/Library/Mobile Documents/com~apple~CloudDocs/Documents/Projects_for_fun/Strava/Data/Saves_from_API/'\n",
    "df.to_csv(f'{PATH}21_Feb_11th.csv')"
   ]
  },
  {
   "cell_type": "code",
   "execution_count": null,
   "metadata": {},
   "outputs": [],
   "source": []
  }
 ],
 "metadata": {
  "kernelspec": {
   "display_name": "Python 3",
   "language": "python",
   "name": "python3"
  },
  "language_info": {
   "codemirror_mode": {
    "name": "ipython",
    "version": 3
   },
   "file_extension": ".py",
   "mimetype": "text/x-python",
   "name": "python",
   "nbconvert_exporter": "python",
   "pygments_lexer": "ipython3",
   "version": "3.7.6"
  }
 },
 "nbformat": 4,
 "nbformat_minor": 4
}
